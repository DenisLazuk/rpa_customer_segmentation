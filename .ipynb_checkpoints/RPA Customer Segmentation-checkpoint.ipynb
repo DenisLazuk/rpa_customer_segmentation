{
 "cells": [
  {
   "cell_type": "code",
   "execution_count": 14,
   "id": "3e3582cd",
   "metadata": {},
   "outputs": [
    {
     "name": "stdout",
     "output_type": "stream",
     "text": [
      "       id                                 email campaign    test  created_at  \\\n",
      "0       1                   gchesshire0@ucoz.ru      NaN     NaN   1/26/2017   \n",
      "1       2                       rbritner1@is.gd      NaN     NaN   10/8/2017   \n",
      "2       3                 acoysh2@canalblog.com      NaN     NaN    9/5/2017   \n",
      "3       4                    rbasley3@google.cn      NaN     NaN   7/29/2017   \n",
      "4       5                     kdury4@elpais.com      NaN     NaN   5/28/2017   \n",
      "..    ...                                   ...      ...     ...         ...   \n",
      "995   996           njeffcoatrn@photobucket.com      NaN     NaN   2/21/2017   \n",
      "996   997  tfeldbergerro@networkadvertising.org      NaN     NaN   3/28/2017   \n",
      "997   998            driggeyrp@chronoengine.com      NaN     NaN   9/21/2017   \n",
      "998   999                jgeraudyrq@cornell.edu      NaN     NaN   7/12/2017   \n",
      "999  1000                nfersonrr@berkeley.edu      NaN  tigers  10/19/2017   \n",
      "\n",
      "      birthday  \n",
      "0    4/17/1982  \n",
      "1    1/16/1970  \n",
      "2    8/11/1986  \n",
      "3    8/29/1960  \n",
      "4    10/2/1988  \n",
      "..         ...  \n",
      "995  7/15/1965  \n",
      "996  9/10/1982  \n",
      "997  1/23/1960  \n",
      "998  9/15/1965  \n",
      "999  6/19/1963  \n",
      "\n",
      "[1000 rows x 6 columns]\n"
     ]
    }
   ],
   "source": [
    "# import necessary libriaries\n",
    "import csv\n",
    "import pandas as pd\n",
    "import sqlite3\n",
    "from datetime import datetime\n",
    "\n",
    "# import dataset from csv\n",
    "data = pd.read_csv('users.csv', delimiter=',')\n",
    "print(data)\n",
    "type(data)\n",
    "\n",
    "# establish connection and cursor object\n",
    "connection = sqlite3.connect(\"users.db\")\n",
    "cursor = connection.cursor()"
   ]
  },
  {
   "cell_type": "code",
   "execution_count": 15,
   "id": "6576faea",
   "metadata": {},
   "outputs": [],
   "source": [
    "# create empty table\n",
    "cursor.execute ('''CREATE TABLE users(id INTEGER,\n",
    "email TEXT,\n",
    "campaign TEXT,\n",
    "test TEXT,\n",
    "created_at TEXT,\n",
    "birthday TEXT);''');"
   ]
  },
  {
   "cell_type": "code",
   "execution_count": 16,
   "id": "5cc7967a",
   "metadata": {},
   "outputs": [],
   "source": [
    "# import dataset to database 'users' \n",
    "data.to_sql('users', connection, if_exists='replace')"
   ]
  },
  {
   "cell_type": "code",
   "execution_count": 17,
   "id": "f4a9df76",
   "metadata": {},
   "outputs": [
    {
     "data": {
      "text/plain": [
       "[(0, 1, 'gchesshire0@ucoz.ru', None, None, '1/26/2017', '4/17/1982'),\n",
       " (1, 2, 'rbritner1@is.gd', None, None, '10/8/2017', '1/16/1970'),\n",
       " (2, 3, 'acoysh2@canalblog.com', None, None, '9/5/2017', '8/11/1986'),\n",
       " (3, 4, 'rbasley3@google.cn', None, None, '7/29/2017', '8/29/1960'),\n",
       " (4, 5, 'kdury4@elpais.com', None, None, '5/28/2017', '10/2/1988'),\n",
       " (5, 6, 'ssnowball5@ucoz.com', None, None, '11/23/2017', '6/13/1962'),\n",
       " (6, 7, 'dbagshaw6@elpais.com', None, None, '11/17/2017', '12/17/1963'),\n",
       " (7, 8, 'tdurden7@usgs.gov', None, 'bears', '4/9/2017', '8/12/1989'),\n",
       " (8, 9, 'rtinn8@archive.org', None, None, '1/14/2017', '11/8/1960'),\n",
       " (9, 10, 'styndall9@vimeo.com', None, 'bears', '11/5/2017', '1/20/1976')]"
      ]
     },
     "execution_count": 17,
     "metadata": {},
     "output_type": "execute_result"
    }
   ],
   "source": [
    "# check if database is valid\n",
    "cursor.execute(\"SELECT * FROM users LIMIT 10\").fetchall()"
   ]
  },
  {
   "cell_type": "code",
   "execution_count": 18,
   "id": "ccd84de5",
   "metadata": {},
   "outputs": [],
   "source": [
    "# save the current progress\n",
    "connection.commit()"
   ]
  },
  {
   "cell_type": "code",
   "execution_count": 19,
   "id": "d42eb8d2",
   "metadata": {},
   "outputs": [],
   "source": [
    "# create two different lists: one for date of registration the other for birth date.\n",
    "result_creation_date = cursor.execute(\"SELECT created_at FROM users;\").fetchall()\n",
    "result_birthdate = cursor.execute(\"SELECT birthday FROM users;\").fetchall()"
   ]
  },
  {
   "cell_type": "code",
   "execution_count": 20,
   "id": "922197ec",
   "metadata": {},
   "outputs": [
    {
     "name": "stdout",
     "output_type": "stream",
     "text": [
      "[34, 47, 31, 56, 28, 55, 53, 27, 56, 41, 32, 53, 49, 54, 56, 50, 33, 32, 33, 28, 51, 36, 28, 47, 29, 57, 35, 28, 54, 38, 49, 46, 42, 42, 28, 38, 40, 41, 40, 29, 41, 30, 28, 46, 28, 30, 40, 44, 51, 43, 33, 44, 54, 47, 55, 49, 29, 45, 55, 31, 51, 54, 48, 54, 29, 34, 29, 42, 28, 48, 43, 33, 48, 45, 31, 28, 36, 29, 35, 29, 37, 34, 48, 43, 54, 49, 36, 35, 39, 44, 35, 50, 33, 53, 30, 30, 44, 37, 35, 54, 34, 36, 52, 30, 28, 27, 43, 37, 53, 48, 36, 51, 29, 43, 49, 46, 35, 43, 44, 56, 43, 31, 28, 55, 53, 28, 49, 47, 52, 32, 43, 30, 49, 52, 48, 50, 56, 52, 36, 54, 55, 37, 35, 33, 39, 28, 36, 53, 51, 29, 32, 37, 51, 31, 33, 30, 52, 48, 30, 50, 32, 39, 48, 33, 43, 38, 52, 49, 30, 27, 37, 32, 29, 40, 57, 44, 49, 53, 38, 39, 51, 35, 56, 45, 29, 30, 34, 30, 33, 41, 56, 54, 33, 37, 40, 42, 44, 43, 39, 30, 53, 48, 27, 27, 31, 55, 40, 43, 30, 54, 27, 35, 51, 40, 57, 40, 56, 41, 31, 37, 52, 36, 45, 31, 49, 34, 45, 40, 47, 53, 55, 37, 54, 50, 54, 33, 50, 30, 55, 42, 53, 57, 56, 56, 35, 35, 35, 55, 53, 46, 52, 40, 47, 55, 55, 35, 33, 47, 47, 47, 49, 33, 40, 37, 57, 53, 56, 38, 48, 51, 51, 31, 55, 30, 30, 34, 50, 51, 36, 32, 30, 37, 55, 40, 52, 32, 31, 34, 37, 28, 30, 52, 45, 45, 54, 34, 48, 33, 53, 53, 35, 45, 52, 47, 29, 27, 49, 53, 33, 28, 38, 39, 35, 38, 51, 46, 37, 40, 44, 30, 41, 42, 41, 52, 42, 34, 55, 47, 56, 31, 40, 53, 34, 53, 46, 28, 41, 46, 44, 50, 46, 47, 29, 34, 37, 48, 45, 37, 35, 56, 55, 53, 33, 45, 30, 45, 30, 52, 42, 37, 54, 55, 46, 48, 35, 32, 33, 57, 55, 42, 42, 36, 52, 43, 38, 31, 42, 41, 50, 28, 42, 51, 49, 34, 43, 40, 27, 42, 49, 29, 43, 28, 48, 41, 44, 39, 31, 45, 29, 48, 46, 44, 55, 31, 41, 47, 35, 36, 27, 52, 56, 42, 31, 53, 47, 37, 28, 50, 47, 42, 32, 54, 54, 42, 29, 31, 51, 49, 51, 33, 48, 53, 50, 37, 50, 30, 31, 55, 32, 30, 30, 42, 50, 52, 30, 56, 41, 33, 55, 43, 43, 28, 46, 56, 49, 46, 44, 46, 50, 53, 50, 40, 43, 41, 51, 34, 37, 27, 38, 39, 38, 40, 38, 41, 31, 34, 42, 38, 57, 53, 31, 43, 44, 28, 52, 28, 41, 37, 43, 43, 34, 29, 42, 42, 30, 48, 47, 53, 34, 54, 45, 47, 32, 48, 37, 46, 56, 28, 44, 50, 51, 28, 54, 32, 42, 53, 29, 43, 53, 32, 30, 39, 40, 35, 33, 39, 32, 49, 50, 53, 46, 29, 32, 41, 54, 50, 53, 49, 48, 34, 32, 40, 34, 51, 57, 54, 50, 57, 42, 46, 39, 48, 39, 32, 38, 55, 51, 47, 48, 32, 28, 30, 30, 38, 52, 37, 33, 41, 50, 41, 32, 34, 41, 38, 36, 31, 40, 47, 40, 32, 32, 42, 57, 44, 55, 40, 27, 29, 56, 27, 39, 50, 51, 36, 34, 54, 45, 28, 54, 47, 35, 53, 38, 43, 35, 35, 47, 46, 57, 47, 41, 55, 55, 33, 50, 55, 55, 48, 55, 32, 54, 47, 42, 49, 47, 45, 51, 40, 43, 47, 44, 30, 54, 28, 41, 30, 56, 38, 54, 42, 42, 50, 30, 55, 44, 44, 37, 56, 49, 31, 28, 35, 54, 42, 30, 52, 42, 55, 53, 46, 36, 34, 48, 50, 38, 28, 37, 51, 36, 31, 43, 28, 53, 32, 33, 39, 47, 45, 34, 52, 48, 56, 56, 31, 42, 37, 55, 33, 49, 49, 45, 29, 38, 51, 46, 50, 46, 40, 31, 53, 41, 43, 31, 43, 53, 54, 51, 57, 31, 50, 31, 35, 30, 43, 36, 55, 53, 42, 33, 52, 41, 43, 28, 54, 31, 52, 29, 31, 42, 46, 49, 54, 45, 42, 30, 49, 34, 55, 53, 50, 41, 48, 38, 47, 45, 29, 35, 31, 41, 52, 42, 45, 28, 44, 28, 34, 42, 29, 54, 55, 42, 53, 27, 49, 52, 31, 45, 34, 39, 38, 49, 28, 57, 57, 35, 57, 53, 39, 46, 42, 44, 38, 37, 30, 56, 39, 30, 48, 43, 33, 29, 36, 47, 57, 52, 36, 54, 44, 43, 30, 47, 51, 54, 53, 34, 42, 30, 30, 45, 37, 28, 52, 38, 42, 30, 32, 50, 54, 45, 41, 33, 35, 29, 52, 34, 31, 37, 46, 52, 30, 45, 45, 44, 53, 31, 43, 42, 55, 44, 56, 42, 33, 40, 41, 31, 44, 42, 50, 48, 45, 43, 50, 30, 32, 41, 30, 32, 56, 34, 34, 40, 45, 54, 50, 30, 47, 31, 46, 41, 36, 47, 53, 37, 28, 41, 36, 48, 47, 36, 57, 49, 53, 30, 38, 50, 36, 47, 50, 36, 51, 27, 29, 42, 44, 47, 42, 53, 54, 38, 29, 35, 29, 32, 33, 45, 55, 37, 55, 32, 48, 28, 34, 44, 42, 56, 42, 47, 43, 34, 32, 28, 36, 45, 31, 31, 49, 31, 48, 44, 54, 50, 54, 44, 47, 52, 51, 42, 42, 41, 29, 35, 41, 40, 31, 53, 52, 29, 51, 45, 36, 47, 40, 30, 32, 57, 45, 46, 46, 31, 42, 55, 50, 28, 45, 31, 34, 46, 31, 32, 29, 37, 56, 42, 50, 45, 52, 28, 55, 42, 46, 30, 33, 40, 32, 50, 53, 42, 56, 43, 52, 49, 53, 36, 27, 33, 51, 34, 57, 51, 54]\n"
     ]
    }
   ],
   "source": [
    "# create an empty list, iterate through given lists to calculate an age of a user and append the empty list with ages\n",
    "age_list = []\n",
    "for a, b in zip(result_creation_date, result_birthdate):\n",
    "    today = datetime.strptime(*a, '%m/%d/%Y').date() # take variable from tuple and convert it from string to date format\n",
    "    birthday = datetime.strptime(*b, '%m/%d/%Y').date() # the same operation for birhdays\n",
    "    age = today.year - birthday.year - ((today.month, today.day) < (birthday.month, birthday.day)) # age calculation\n",
    "    age_list.append(age) # append each calculation result to a list\n",
    "print (age_list) "
   ]
  },
  {
   "cell_type": "code",
   "execution_count": 21,
   "id": "41810fd4",
   "metadata": {},
   "outputs": [
    {
     "data": {
      "text/plain": [
       "<sqlite3.Cursor at 0x25f242b43b0>"
      ]
     },
     "execution_count": 21,
     "metadata": {},
     "output_type": "execute_result"
    }
   ],
   "source": [
    "# add to the table a new column 'age'\n",
    "cursor.execute ('''ALTER TABLE users\n",
    "ADD COLUMN age INTEGER;''')"
   ]
  },
  {
   "cell_type": "code",
   "execution_count": 24,
   "id": "044ef057",
   "metadata": {},
   "outputs": [
    {
     "data": {
      "text/plain": [
       "<sqlite3.Cursor at 0x25f242b43b0>"
      ]
     },
     "execution_count": 24,
     "metadata": {},
     "output_type": "execute_result"
    }
   ],
   "source": [
    "# add data to the age column from age_list\n",
    "cursor.executemany('UPDATE users SET age= ?', ((i,) for i in age_list))"
   ]
  },
  {
   "cell_type": "code",
   "execution_count": 25,
   "id": "a275e112",
   "metadata": {},
   "outputs": [
    {
     "data": {
      "text/plain": [
       "[(0, 1, 'gchesshire0@ucoz.ru', None, None, '1/26/2017', '4/17/1982', 54),\n",
       " (1, 2, 'rbritner1@is.gd', None, None, '10/8/2017', '1/16/1970', 54),\n",
       " (2, 3, 'acoysh2@canalblog.com', None, None, '9/5/2017', '8/11/1986', 54),\n",
       " (3, 4, 'rbasley3@google.cn', None, None, '7/29/2017', '8/29/1960', 54),\n",
       " (4, 5, 'kdury4@elpais.com', None, None, '5/28/2017', '10/2/1988', 54),\n",
       " (5, 6, 'ssnowball5@ucoz.com', None, None, '11/23/2017', '6/13/1962', 54),\n",
       " (6, 7, 'dbagshaw6@elpais.com', None, None, '11/17/2017', '12/17/1963', 54),\n",
       " (7, 8, 'tdurden7@usgs.gov', None, 'bears', '4/9/2017', '8/12/1989', 54),\n",
       " (8, 9, 'rtinn8@archive.org', None, None, '1/14/2017', '11/8/1960', 54),\n",
       " (9, 10, 'styndall9@vimeo.com', None, 'bears', '11/5/2017', '1/20/1976', 54)]"
      ]
     },
     "execution_count": 25,
     "metadata": {},
     "output_type": "execute_result"
    }
   ],
   "source": [
    "# check that we get a required result\n",
    "cursor.execute(\"SELECT * FROM users LIMIT 10\").fetchall()"
   ]
  },
  {
   "cell_type": "code",
   "execution_count": 26,
   "id": "2b4675e1",
   "metadata": {},
   "outputs": [],
   "source": [
    "cursor.close()\n",
    "connection.commit()\n",
    "connection.close()"
   ]
  }
 ],
 "metadata": {
  "kernelspec": {
   "display_name": "Python 3 (ipykernel)",
   "language": "python",
   "name": "python3"
  },
  "language_info": {
   "codemirror_mode": {
    "name": "ipython",
    "version": 3
   },
   "file_extension": ".py",
   "mimetype": "text/x-python",
   "name": "python",
   "nbconvert_exporter": "python",
   "pygments_lexer": "ipython3",
   "version": "3.9.7"
  }
 },
 "nbformat": 4,
 "nbformat_minor": 5
}
